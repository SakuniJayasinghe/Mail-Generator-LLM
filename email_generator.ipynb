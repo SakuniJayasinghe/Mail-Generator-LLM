{
 "cells": [
  {
   "cell_type": "code",
   "execution_count": 1,
   "id": "0eccd20e",
   "metadata": {},
   "outputs": [],
   "source": [
    "from langchain_groq import ChatGroq"
   ]
  },
  {
   "cell_type": "code",
   "execution_count": 2,
   "id": "c16ff50e",
   "metadata": {},
   "outputs": [
    {
     "name": "stdout",
     "output_type": "stream",
     "text": [
      "The first person to land on the moon was Neil Armstrong. He stepped onto the lunar surface on July 20, 1969, as part of the Apollo 11 mission.\n"
     ]
    }
   ],
   "source": [
    "llm = ChatGroq(\n",
    "    temperature=0, \n",
    "    groq_api_key='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', \n",
    "    model_name=\"llama-3.1-70b-versatile\"\n",
    ")\n",
    "response = llm.invoke(\"The first person to land on moon was ...\")\n",
    "print(response.content)"
   ]
  },
  {
   "cell_type": "code",
   "execution_count": 4,
   "id": "90d33612",
   "metadata": {},
   "outputs": [
    {
     "name": "stdout",
     "output_type": "stream",
     "text": [
      "Apply for Lead Software Engineer\n",
      "\n",
      "Search JobsSkip navigationSearch JobsNIKE, INC. JOBSContract JobsJoin The Talent CommunityLife @ NikeOverviewBenefitsBrandsOverviewJordanConverseTeamsOverviewAdministrative SupportAdvanced InnovationAir Manufacturing InnovationAviationCommunicationsCustomer ServiceDesignDigitalFacilitiesFinance & AccountingGovernment & Public AffairsHuman ResourcesInsights & AnalyticsLegalManufacturing & EngineeringMarketingMerchandisingPlanningPrivacyProcurementProduct Creation, Development & ManagementRetail CorporateRetail StoresSalesSocial & Community ImpactSports MarketingStrategic PlanningSupply Chain, Distribution & LogisticsSustainabilityTechnologyLocationsOverviewNike WHQNike New York HQEHQ: Hilversum, The NetherlandsELC: Laakdal, BelgiumGreater China HQDiversity, Equity & InclusionOverviewMilitary InclusionDisability InclusionIndigenous InclusionInternshipsTechnologyLead Software EngineerHilversum, North HollandBecome a Part of the NIKE, Inc. TeamNIKE, Inc. does more than outfit the world’s best athletes. It is a place to explore potential, obliterate boundaries and push out the edges of what can be. The company looks for people who can grow, think, dream and create. Its culture thrives by embracing diversity and rewarding imagination. The brand seeks achievers, leaders and visionaries. At NIKE, Inc. it’s about each person bringing skills and passion to a challenging and constantly evolving game.NIKE is a technology company. From our flagship website and five-star mobile apps to developing products, managing big data and providing leading edge engineering and systems support, our teams at NIKE Global Technology exist to revolutionize the future at the confluence of tech and sport. We invest and develop advances in technology and employ the most creative people in the world, and then give them the support to constantly innovate, iterate and serve consumers more directly and personally.  Our teams are innovative, diverse, multidisciplinary and collaborative, taking technology into the future and bringing the world with it.Lead Software Engineer - Java Spring Boot, AWS, Python | Nike Technology Become a Part of the NIKE, Inc. TeamAt NIKE, Inc., we do more than create sportswear; we innovate the future of sport and technology. Our culture thrives on diversity, creativity, and collaboration, where individuals are empowered to push the boundaries of what's possible. We are looking for those who can dream, build, and inspire.At Nike Global Technology, we power the world's largest sports brand with groundbreaking digital experiences. From our mobile apps to the cloud infrastructure, we are revolutionizing the way we connect with athletes, customers, and teams worldwide. We foster a culture of continuous learning, innovation, and a growth mindset. Now, we’re seeking a talented Lead Software Engineer to join our team and drive impactful changes across the technology landscape.Who We Are Looking ForWe are searching for an experienced Lead Software Engineer with deep expertise in backend technologies and cloud infrastructure. You’ll be leading a dynamic team of engineers working on high-impact, distributed systems leveraging Java Spring Boot in AWS ECS environments and Python for serverless Lambda functions. While backend development will be your primary focus, you’ll also support a frontend stack built with VueJS, with an eye towards future transition to ReactJS.The ideal candidate is not only passionate about coding but also thrives in mentoring teams, embracing best practices, and driving innovation within an agile, fast-paced environment.What You Will Work OnLead the design, development and deployment of cloud-based services, primarily using Java Spring Boot and AWS.Architect, build and maintain services on AWS ECS, with Python utilized for Lambda functions.Guide the team in maintaining front-end services (VueJS), with long-term plans to transition to ReactJS.Collaborate with Architects, Product Managers and other engineering teams to deliver cutting-edge solutions that meet evolving consumer needs.Actively participate in code reviews, technical design discussions and advocate for best practices across cloud, security, and DevOps.Lead technical backlog management, ensuring team alignment with business goals and architectural guidelines.Mentor and inspire a team of software engineers to grow and develop professionally.Drive continuous improvement through agile processes, fostering a culture of collaboration, innovation, and continuous learning.Who You Will Work WithYou’ll work closely with cross-functional teams, including Product Managers, Architects and fellow Engineers, to shape the future of Nike's digital experiences. As a Lead Software Engineer, you’ll be instrumental in helping the team reach their potential, delivering high-quality solutions while fostering an inclusive, collaborative environment. You’ll also partner with other technical leaders to ensure strategic alignment across global teams.What You BringProven xperience in software development, with significant hands-on expertise in Java Spring Boot and Python.Proficiency in JavaScript frameworks (VueJS/React) with an eagerness to lead the transition from VueJS to ReactJS.Advanced experience with AWS cloud services.Deep understanding of microservices architecture, API development and distributed systems.Experience with DevOps tools (CI/CD pipelines, Jenkins, Git), automated testing, and agile methodologies.Excellent leadership and communication skills, with a passion for mentoring and developing teams.Ability to manage multiple projects in a fast-paced environment, always striving for technical excellence.A continuous learner with a growth mindset, ready to take on new challenges and push the limits of what’s possible.NO RELOCATION SUPPORT WILL BE PROVIDED FOR THIS ROLE.This job posting will expire on the 14th of October.NIKE, Inc. is a growth company that looks for team members to grow with it. Nike offers a generous total rewards package, casual work environment, a diverse and inclusive culture, and an electric atmosphere for professional development. No matter the location, or the role, every Nike employee shares one galvanizing mission: To bring inspiration and innovation to every athlete* in the world.NIKE, Inc. is committed to employing a diverse workforce. Qualified applicants will receive consideration without regard to race, color, religion, sex, national origin, age, sexual orientation, gender identity, gender expression, veteran status, or disability.How We HireAt NIKE, Inc. we promise to provide a premium, inclusive, compelling and authentic candidate experience. Delivering on this promise means we allow you to be at your best — and to do that, you need to understand how the hiring process works. Transparency is key.\n",
      "\n",
      "* This overview explains our hiring process for corporate roles. Note there may be different hiring steps involved for non-corporate roles.Start nowBenefitsWhether it’s transportation or financial health, we continually invest in our employees to help them achieve greatness — inside and outside of work. All who work here should be able to realize their full potential.Employee Assistance ProgramEmployee Stock Purchase Plan (ESPP)HolidaysMedical PlanPaid Time Off (PTO)Product DiscountsSabbaticalsLearn moreGIFT CARDSPROMOTIONSFIND A STORESIGN UP FOR EMAILBECOME A MEMBERNIKE JOURNALSEND US FEEDBACKGET HELPGET HELPOrder StatusShipping and DeliveryReturnsPayment OptionsGift Cards BalanceContact UsABOUT NIKEABOUT NIKENewsCareersInvestorsPurposeSustainabilityUnited States© 2024 Nike, Inc. All Rights ReservedGuidesNike AdaptNike Air MaxNike FlyleatherNike ReactSpace HippieNike AirNike FlyEaseNike Free Nike VaporflyNike Air Force 1 Nike FlyknitNike JoyrideNike ZoomXTerms of SaleTerms of UseNike Privacy PolicyYour Privacy ChoicesCA Supply Chain Act\n"
     ]
    }
   ],
   "source": [
    "from langchain_community.document_loaders import WebBaseLoader\n",
    "\n",
    "loader = WebBaseLoader(\"https://jobs.nike.com/job/R-38301\")\n",
    "page_data = loader.load().pop().page_content\n",
    "print(page_data)"
   ]
  },
  {
   "cell_type": "code",
   "execution_count": 6,
   "id": "85c89a57",
   "metadata": {},
   "outputs": [
    {
     "name": "stdout",
     "output_type": "stream",
     "text": [
      "```json\n",
      "{\n",
      "  \"role\": \"Lead Software Engineer\",\n",
      "  \"experience\": \"Proven experience in software development, with significant hands-on expertise in Java Spring Boot and Python\",\n",
      "  \"skills\": [\n",
      "    \"Java Spring Boot\",\n",
      "    \"Python\",\n",
      "    \"JavaScript frameworks (VueJS/React)\",\n",
      "    \"AWS cloud services\",\n",
      "    \"Microservices architecture\",\n",
      "    \"API development\",\n",
      "    \"Distributed systems\",\n",
      "    \"DevOps tools (CI/CD pipelines, Jenkins, Git)\",\n",
      "    \"Automated testing\",\n",
      "    \"Agile methodologies\"\n",
      "  ],\n",
      "  \"description\": \"Lead the design, development and deployment of cloud-based services, primarily using Java Spring Boot and AWS. Architect, build and maintain services on AWS ECS, with Python utilized for Lambda functions. Guide the team in maintaining front-end services (VueJS), with long-term plans to transition to ReactJS. Collaborate with Architects, Product Managers and other engineering teams to deliver cutting-edge solutions that meet evolving consumer needs.\"\n",
      "}\n",
      "```\n"
     ]
    }
   ],
   "source": [
    "from langchain_core.prompts import PromptTemplate\n",
    "\n",
    "prompt_extract = PromptTemplate.from_template(\n",
    "        \"\"\"\n",
    "        ### SCRAPED TEXT FROM WEBSITE:\n",
    "        {page_data}\n",
    "        ### INSTRUCTION:\n",
    "        The scraped text is from the career's page of a website.\n",
    "        Your job is to extract the job postings and return them in JSON format containing the \n",
    "        following keys: `role`, `experience`, `skills` and `description`.\n",
    "        Only return the valid JSON.\n",
    "        ### VALID JSON (NO PREAMBLE):    \n",
    "        \"\"\"\n",
    ")\n",
    "\n",
    "chain_extract = prompt_extract | llm \n",
    "res = chain_extract.invoke(input={'page_data':page_data})\n",
    "print(res.content)"
   ]
  },
  {
   "cell_type": "code",
   "execution_count": 7,
   "id": "5415fd54",
   "metadata": {},
   "outputs": [
    {
     "data": {
      "text/plain": [
       "{'role': 'Lead Software Engineer',\n",
       " 'experience': 'Proven experience in software development, with significant hands-on expertise in Java Spring Boot and Python',\n",
       " 'skills': ['Java Spring Boot',\n",
       "  'Python',\n",
       "  'JavaScript frameworks (VueJS/React)',\n",
       "  'AWS cloud services',\n",
       "  'Microservices architecture',\n",
       "  'API development',\n",
       "  'Distributed systems',\n",
       "  'DevOps tools (CI/CD pipelines, Jenkins, Git)',\n",
       "  'Automated testing',\n",
       "  'Agile methodologies'],\n",
       " 'description': 'Lead the design, development and deployment of cloud-based services, primarily using Java Spring Boot and AWS. Architect, build and maintain services on AWS ECS, with Python utilized for Lambda functions. Guide the team in maintaining front-end services (VueJS), with long-term plans to transition to ReactJS. Collaborate with Architects, Product Managers and other engineering teams to deliver cutting-edge solutions that meet evolving consumer needs.'}"
      ]
     },
     "execution_count": 7,
     "metadata": {},
     "output_type": "execute_result"
    }
   ],
   "source": [
    "from langchain_core.output_parsers import JsonOutputParser\n",
    "\n",
    "json_parser = JsonOutputParser()\n",
    "json_res = json_parser.parse(res.content)\n",
    "json_res"
   ]
  },
  {
   "cell_type": "code",
   "execution_count": 8,
   "id": "39961ed6",
   "metadata": {},
   "outputs": [
    {
     "data": {
      "text/plain": [
       "dict"
      ]
     },
     "execution_count": 8,
     "metadata": {},
     "output_type": "execute_result"
    }
   ],
   "source": [
    "type(json_res)"
   ]
  }
 ],
 "metadata": {
  "kernelspec": {
   "display_name": "Python 3",
   "language": "python",
   "name": "python3"
  },
  "language_info": {
   "codemirror_mode": {
    "name": "ipython",
    "version": 3
   },
   "file_extension": ".py",
   "mimetype": "text/x-python",
   "name": "python",
   "nbconvert_exporter": "python",
   "pygments_lexer": "ipython3",
   "version": "3.12.5"
  }
 },
 "nbformat": 4,
 "nbformat_minor": 5
}
